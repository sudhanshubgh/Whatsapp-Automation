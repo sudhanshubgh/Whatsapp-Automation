#!/usr/bin/python

from tkinter import *
import tkinter as tk
import pywhatkit as pyk
import ipywidgets as widgets

#UI Design
top = tk.Tk()
top.title("WhatsApp Automation")
top.configure(bg='black')
#top.geometry("700x250")

#variable Declaration
global num1
global hour1
global minu1
global msg1

#Datatypes
num1=StringVar()
msg1=StringVar()
hour1=StringVar()
minu1=StringVar()

#function for sending whatsapp message
def sendmsg():
    pyk.sendwhatmsg(f"+91{num1.get()}",msg1.get(),int(hour1.get()),int(minu1.get()))
    top.destroy()

#Labels and Entry Widgets
tk.Label(text="DEVELOPED BY:- SUDHANSHU KUMAR SINGH",fg="white", bg="green",font='calibri 9 italic',justify=LEFT).grid(row=15,column=1,sticky=W, padx=10, pady=10)

#Phone Number
tk.Label(text="Phone Number *",font='calibri 10 bold',bg='black',fg='white').grid(row=1, column=0, padx=5, pady=5)
num=tk.Entry(top,textvariable=num1,width = 40).grid(row=1, column=1, padx=5, pady=5)
tk.Label(text="(Enter only 10 digits phone number)",fg="red",bg='black',justify=LEFT).grid(row=1, column=2,sticky=W, padx=5, pady=5)

#Message
tk.Label(text="Message *",font='calibri 10 bold',justify=LEFT,bg='black',fg='white').grid(row=2, column=0, sticky = W,padx=5, pady=5)
msg=tk.Entry(top,textvariable=msg1,width=40).grid(row=2, column=1, padx=5, pady=5,ipadx=0,ipady=20)
#Text(top, height = 5, width = 30,textvariable=msg1).grid(row=2, column=1, padx=5, pady=5,ipadx=0,ipady=20)

tk.Label(text="(Enter the message that you want to send)",fg="red",justify=LEFT,bg='black').grid(row=2, column=2,sticky = W, padx=5, pady=5)

#Hour
tk.Label(text="Hours *",font='calibri 10 bold',justify=LEFT,bg='black',fg='white').grid(row=3, column=0, sticky = W,padx=5, pady=5)
hour=tk.Entry(top,textvariable=hour1,width = 40).grid(row=3, column=1, padx=5, pady=5)
tk.Label(text="(Enter Hour in 24 Hour Format)",fg="red",justify=LEFT,bg='black').grid(row=3, column=2, sticky = W,padx=5, pady=5)

#Minutes
tk.Label(text="Minutes *",font='calibri 10 bold',justify=LEFT,bg='black',fg='white').grid(row=4, column=0, sticky = W,padx=5, pady=5)
minu=tk.Entry(top,textvariable=minu1,width = 40).grid(row=4, column=1, padx=5, pady=5)
tk.Label(text="(Enter minutes)",justify=LEFT,fg="red",bg='black').grid(row=4, column=2,sticky = W, padx=5, pady=5)


#button for calling send message function
send = tk.Button(text="Send Message",bg="white",fg="green",relief=RAISED,command=sendmsg,justify=RIGHT).grid(row=10, column=2, sticky=E,padx=10, pady=10)

top.mainloop()
